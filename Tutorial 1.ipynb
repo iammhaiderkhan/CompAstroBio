{
 "cells": [
  {
   "cell_type": "code",
   "execution_count": 1,
   "id": "54d3aba6",
   "metadata": {
    "scrolled": true
   },
   "outputs": [],
   "source": [
    "import lifesim"
   ]
  },
  {
   "cell_type": "code",
   "execution_count": 2,
   "id": "1d50c055",
   "metadata": {},
   "outputs": [],
   "source": [
    "from lifesim import Gui\n",
    "#Gui()"
   ]
  },
  {
   "cell_type": "code",
   "execution_count": 3,
   "id": "bd0e9038-c38f-4d9d-9f37-2462100d3227",
   "metadata": {},
   "outputs": [],
   "source": [
    "bus = lifesim.Bus()"
   ]
  },
  {
   "cell_type": "code",
   "execution_count": 4,
   "id": "cef863c7-9a2b-4671-90c1-bca467908472",
   "metadata": {},
   "outputs": [],
   "source": [
    "bus.data.options.set_scenario('baseline')"
   ]
  },
  {
   "cell_type": "code",
   "execution_count": 5,
   "id": "5a7464a0-876c-4c88-9b76-8b79fe1477b5",
   "metadata": {},
   "outputs": [],
   "source": [
    "bus.data.options.set_manual(diameter=4.)"
   ]
  },
  {
   "cell_type": "code",
   "execution_count": 14,
   "id": "5629cba2-efaf-4095-86e5-d1acddb94f8c",
   "metadata": {},
   "outputs": [
    {
     "name": "stdout",
     "output_type": "stream",
     "text": [
      "Processed line 45884 of 45884\n"
     ]
    }
   ],
   "source": [
    "bus.data.catalog_from_ppop(input_path='/Users/iammhaiderkhan/Downloads/TestPlanetPopulation.txt',overwrite=True)"
   ]
  },
  {
   "cell_type": "code",
   "execution_count": 15,
   "id": "037d86e5-b33b-4b03-9266-2dc61bd5e628",
   "metadata": {},
   "outputs": [],
   "source": [
    "bus.data.catalog_remove_distance(stype='A', mode='larger', dist=0.)  \n",
    "bus.data.catalog_remove_distance(stype='M', mode='larger', dist=10.)  "
   ]
  },
  {
   "cell_type": "code",
   "execution_count": 16,
   "id": "b7d19d07-344c-4514-a7fe-b65bceb2ff04",
   "metadata": {},
   "outputs": [],
   "source": [
    "instrument = lifesim.Instrument(name='inst')\n",
    "bus.add_module(instrument)"
   ]
  },
  {
   "cell_type": "code",
   "execution_count": 17,
   "id": "1b6c3525-89b0-4155-b86c-696da3cea21e",
   "metadata": {},
   "outputs": [],
   "source": [
    "transm = lifesim.TransmissionMap(name='transm')\n",
    "bus.add_module(transm)"
   ]
  },
  {
   "cell_type": "markdown",
   "id": "fb09fb0e-50da-4552-959a-5cccecfbb4db",
   "metadata": {},
   "source": [
    "Noise addition to bus from different astrophysical sources"
   ]
  },
  {
   "cell_type": "code",
   "execution_count": 18,
   "id": "a63fc728-6911-44f0-b0ea-59a2e555ed59",
   "metadata": {},
   "outputs": [],
   "source": [
    "exozodi = lifesim.PhotonNoiseExozodi(name='exo')\n",
    "bus.add_module(exozodi)\n",
    "localzodi = lifesim.PhotonNoiseLocalzodi(name='local')\n",
    "bus.add_module(localzodi)\n",
    "star_leak = lifesim.PhotonNoiseStar(name='star')\n",
    "bus.add_module(star_leak)"
   ]
  },
  {
   "cell_type": "markdown",
   "id": "62b0ccbf-415b-401d-8dfd-8f93615963a9",
   "metadata": {},
   "source": [
    "The LIFEsim instrument module is now connected to the noise modules.\n",
    "Lastly the star module is also connected to the transmission map."
   ]
  },
  {
   "cell_type": "code",
   "execution_count": 19,
   "id": "32d086b5-53b6-4d90-91a8-876f3b439adf",
   "metadata": {},
   "outputs": [],
   "source": [
    "bus.connect(('inst', 'transm'))\n",
    "bus.connect(('inst', 'exo'))\n",
    "bus.connect(('inst', 'local'))\n",
    "bus.connect(('inst', 'star'))\n",
    "\n",
    "bus.connect(('star', 'transm'))"
   ]
  },
  {
   "cell_type": "code",
   "execution_count": 20,
   "id": "cda21b15-70d5-4f7f-a5db-77bb1472f31e",
   "metadata": {},
   "outputs": [],
   "source": [
    "opt = lifesim.Optimizer(name='opt')\n",
    "bus.add_module(opt)\n",
    "ahgs = lifesim.AhgsModule(name='ahgs')\n",
    "bus.add_module(ahgs)\n",
    "\n",
    "bus.connect(('transm', 'opt'))\n",
    "bus.connect(('inst', 'opt'))\n",
    "bus.connect(('opt', 'ahgs'))"
   ]
  },
  {
   "cell_type": "code",
   "execution_count": 21,
   "id": "e1827de3-ff1c-413e-97e7-703acf6c2ecf",
   "metadata": {},
   "outputs": [
    {
     "name": "stderr",
     "output_type": "stream",
     "text": [
      "100%|██████████| 535/535 [01:39<00:00,  5.39it/s]\n"
     ]
    },
    {
     "name": "stdout",
     "output_type": "stream",
     "text": [
      "Number of planets detected by stellar type:\n",
      "A: 0.0  F: 1.7  G: 5.8  K: 35.4  M: 38.3  -  (2.0 / 2.0) yrs observed\n"
     ]
    }
   ],
   "source": [
    "instrument.get_snr()\n",
    "opt.ahgs()\n",
    "#bus.data.options.optimization['habitable'] = True"
   ]
  },
  {
   "cell_type": "code",
   "execution_count": 23,
   "id": "c2ccebc5-a3cd-462d-833d-d3c53bf4beea",
   "metadata": {},
   "outputs": [],
   "source": [
    "df=bus.data.catalog\n",
    "df.to_csv(\"lifesim_results\", index=False)\n",
    "plot=df[[\"radius_p\",\"mass_p\",\"habitable\"]]"
   ]
  },
  {
   "cell_type": "code",
   "execution_count": 24,
   "id": "5c33cd88-5e44-48d4-8af5-b59a80493c6c",
   "metadata": {},
   "outputs": [],
   "source": [
    "plot=plot.to_numpy()"
   ]
  },
  {
   "cell_type": "code",
   "execution_count": 25,
   "id": "cfc10ee4-35e8-4933-bd8d-cd90c38e75a3",
   "metadata": {},
   "outputs": [
    {
     "data": {
      "image/png": "[encoded data removed]",
      "text/plain": [
       "<Figure size 432x288 with 1 Axes>"
      ]
     },
     "metadata": {
      "needs_background": "light"
     },
     "output_type": "display_data"
    }
   ],
   "source": [
    "import matplotlib.pyplot as plt\n",
    "for i in range(len(plot[0:,0])):\n",
    "    if plot[i,1]<100:\n",
    "        if plot[i,2]==True:\n",
    "            plt.scatter(plot[i,0],plot[i,1],s=0.5,color='green')\n",
    "        else:\n",
    "            plt.scatter(plot[i,0],plot[i,1],s=0.5,color='red')\n",
    "plt.xlabel(\"Planet Radius\")\n",
    "plt.ylabel(\"Planet Mass\")\n",
    "plt.show()"
   ]
  },
  {
   "cell_type": "code",
   "execution_count": 35,
   "id": "348919a5-df58-4c5b-aadf-1f57ed7ec705",
   "metadata": {},
   "outputs": [
    {
     "data": {
      "text/plain": [
       "<Figure size 640x480 with 0 Axes>"
      ]
     },
     "metadata": {},
     "output_type": "display_data"
    }
   ],
   "source": [
    "plt.savefig('Planets.pdf')  "
   ]
  },
  {
   "cell_type": "code",
   "execution_count": 26,
   "id": "a877f46e-5199-46e8-ba74-f2429e3e5836",
   "metadata": {},
   "outputs": [
    {
     "data": {
      "image/png": "[encoded data removed]",
      "text/plain": [
       "<Figure size 432x288 with 1 Axes>"
      ]
     },
     "metadata": {
      "needs_background": "light"
     },
     "output_type": "display_data"
    }
   ],
   "source": [
    "for i in range(len(plot[0:,0])):\n",
    "    if plot[i,2]==True:\n",
    "        plt.scatter(plot[i,0],plot[i,1],s=0.5,color='green')\n",
    "plt.xlabel(\"Planet Radius\")\n",
    "plt.ylabel(\"Planet Mass\")\n",
    "plt.show()"
   ]
  },
  {
   "cell_type": "code",
   "execution_count": 37,
   "id": "dfe3039c-a0df-4565-9add-00dfd3f4e258",
   "metadata": {},
   "outputs": [
    {
     "data": {
      "text/plain": [
       "<Figure size 640x480 with 0 Axes>"
      ]
     },
     "metadata": {},
     "output_type": "display_data"
    }
   ],
   "source": [
    "plt.savefig('Planets.pdf')  "
   ]
  },
  {
   "cell_type": "code",
   "execution_count": null,
   "id": "1cfb005d-355f-4cb9-831d-b0669bb10e8f",
   "metadata": {},
   "outputs": [],
   "source": []
  }
 ],
 "metadata": {
  "kernelspec": {
   "display_name": "Python 3 (ipykernel)",
   "language": "python",
   "name": "python3"
  },
  "language_info": {
   "codemirror_mode": {
    "name": "ipython",
    "version": 3
   },
   "file_extension": ".py",
   "mimetype": "text/x-python",
   "name": "python",
   "nbconvert_exporter": "python",
   "pygments_lexer": "ipython3",
   "version": "3.9.7"
  }
 },
 "nbformat": 4,
 "nbformat_minor": 5
}
