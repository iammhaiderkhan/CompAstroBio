{
 "cells": [
  {
   "cell_type": "code",
   "execution_count": 14,
   "metadata": {},
   "outputs": [],
   "source": [
    "import pandas as pd\n",
    "import torch\n",
    "import torch.nn as nn\n",
    "import math\n",
    "import numpy as np\n",
    "from sklearn.preprocessing import MinMaxScaler\n",
    "from sklearn.model_selection import train_test_split\n",
    "from sklearn.metrics import confusion_matrix\n",
    "from sklearn import metrics\n",
    "import matplotlib.pyplot as plt\n",
    "import seaborn as sns"
   ]
  },
  {
   "cell_type": "code",
   "execution_count": 15,
   "metadata": {},
   "outputs": [],
   "source": [
    "class MultiHeadAttention(nn.Module):\n",
    "    def __init__(self, d_model, num_heads):\n",
    "        super(MultiHeadAttention, self).__init__()\n",
    "        assert d_model % num_heads == 0, \"d_model must be divisible by num_heads\"\n",
    "\n",
    "        self.d_model = d_model\n",
    "        self.num_heads = num_heads\n",
    "        self.d_k = d_model // num_heads\n",
    "\n",
    "        self.W_q = nn.Linear(d_model, d_model)\n",
    "        self.W_k = nn.Linear(d_model, d_model)\n",
    "        self.W_v = nn.Linear(d_model, d_model)\n",
    "        self.W_o = nn.Linear(d_model, d_model)\n",
    "\n",
    "    def scaled_dot_product_attention(self, Q, K, V, mask=None):\n",
    "        attn_scores = torch.matmul(Q, K.transpose(-2, -1)) / math.sqrt(self.d_k)\n",
    "        if mask is not None:\n",
    "            attn_scores = attn_scores.masked_fill(mask == 0, -1e9)\n",
    "        attn_probs = torch.softmax(attn_scores, dim=-1)\n",
    "        output = torch.matmul(attn_probs, V)\n",
    "        return output\n",
    "\n",
    "    def split_heads(self, x):\n",
    "        batch_size, seq_length, d_model = x.size()\n",
    "        return x.view(batch_size, seq_length, self.num_heads, self.d_k).transpose(1, 2)\n",
    "\n",
    "    def combine_heads(self, x):\n",
    "        batch_size, _, seq_length, d_k = x.size()\n",
    "        return x.transpose(1, 2).contiguous().view(batch_size, seq_length, self.d_model)\n",
    "\n",
    "    def forward(self, Q, K, V, mask=None):\n",
    "        Q = self.split_heads(self.W_q(Q))\n",
    "        K = self.split_heads(self.W_k(K))\n",
    "        V = self.split_heads(self.W_v(V))\n",
    "\n",
    "        attn_output = self.scaled_dot_product_attention(Q, K, V, mask)\n",
    "        output = self.W_o(self.combine_heads(attn_output))\n",
    "        return output"
   ]
  },
  {
   "cell_type": "code",
   "execution_count": 16,
   "metadata": {},
   "outputs": [],
   "source": [
    "class PositionWiseFeedForward(nn.Module):\n",
    "    def __init__(self, d_model, d_ff):\n",
    "        super(PositionWiseFeedForward, self).__init__()\n",
    "        self.fc1 = nn.Linear(d_model, d_ff)\n",
    "        self.fc2 = nn.Linear(d_ff, d_model)\n",
    "        self.relu = nn.ReLU()\n",
    "\n",
    "    def forward(self, x):\n",
    "        return self.fc2(self.relu(self.fc1(x)))"
   ]
  },
  {
   "cell_type": "code",
   "execution_count": 17,
   "metadata": {},
   "outputs": [],
   "source": [
    "class PositionalEncoding(nn.Module):\n",
    "    def __init__(self, d_model, max_seq_length):\n",
    "        super(PositionalEncoding, self).__init__()\n",
    "\n",
    "        pe = torch.zeros(max_seq_length, d_model)\n",
    "        position = torch.arange(0, max_seq_length, dtype=torch.float).unsqueeze(1)\n",
    "        div_term = torch.exp(torch.arange(0, d_model, 2).float() * -(math.log(10000.0) / d_model))\n",
    "\n",
    "        pe[:, 0::2] = torch.sin(position * div_term)\n",
    "        pe[:, 1::2] = torch.cos(position * div_term)\n",
    "        self.register_buffer('pe', pe.unsqueeze(0))\n",
    "\n",
    "    def forward(self, x):\n",
    "        return x + self.pe[:, :x.size(1)]"
   ]
  },
  {
   "cell_type": "code",
   "execution_count": 18,
   "metadata": {},
   "outputs": [],
   "source": [
    "class EncoderLayer(nn.Module):\n",
    "    def __init__(self, d_model, num_heads, d_ff, dropout):\n",
    "        super(EncoderLayer, self).__init__()\n",
    "        self.self_attn = MultiHeadAttention(d_model, num_heads)\n",
    "        self.feed_forward = PositionWiseFeedForward(d_model, d_ff)\n",
    "        self.norm1 = nn.LayerNorm(d_model)\n",
    "        self.norm2 = nn.LayerNorm(d_model)\n",
    "        self.dropout = nn.Dropout(dropout)\n",
    "\n",
    "    def forward(self, x, mask):\n",
    "        attn_output = self.self_attn(x, x, x, mask)\n",
    "        x = self.norm1(x + self.dropout(attn_output))\n",
    "        ff_output = self.feed_forward(x)\n",
    "        x = self.norm2(x + self.dropout(ff_output))\n",
    "        return x\n"
   ]
  },
  {
   "cell_type": "code",
   "execution_count": 19,
   "metadata": {},
   "outputs": [],
   "source": [
    "class DecoderLayer(nn.Module):\n",
    "    def __init__(self, d_model, num_heads, d_ff, dropout):\n",
    "        super(DecoderLayer, self).__init__()\n",
    "        self.self_attn = MultiHeadAttention(d_model, num_heads)\n",
    "        self.cross_attn = MultiHeadAttention(d_model, num_heads)\n",
    "        self.feed_forward = PositionWiseFeedForward(d_model, d_ff)\n",
    "        self.norm1 = nn.LayerNorm(d_model)\n",
    "        self.norm2 = nn.LayerNorm(d_model)\n",
    "        self.norm3 = nn.LayerNorm(d_model)\n",
    "        self.dropout = nn.Dropout(dropout)\n",
    "\n",
    "    def forward(self, x, enc_output, src_mask, tgt_mask):\n",
    "        attn_output = self.self_attn(x, x, x, tgt_mask)\n",
    "        x = self.norm1(x + self.dropout(attn_output))\n",
    "        attn_output = self.cross_attn(x, enc_output, enc_output, src_mask)\n",
    "        x = self.norm2(x + self.dropout(attn_output))\n",
    "        ff_output = self.feed_forward(x)\n",
    "        x = self.norm3(x + self.dropout(ff_output))\n",
    "        return x"
   ]
  },
  {
   "cell_type": "code",
   "execution_count": 20,
   "metadata": {},
   "outputs": [],
   "source": [
    "class Transformer(nn.Module):\n",
    "    def __init__(self, src_vocab_size, tgt_vocab_size, d_model, num_heads, num_layers, d_ff, max_seq_length, dropout):\n",
    "        super(Transformer, self).__init__()\n",
    "        self.encoder_embedding = nn.Embedding(src_vocab_size, d_model)\n",
    "        self.decoder_embedding = nn.Embedding(tgt_vocab_size, d_model)\n",
    "        self.positional_encoding = PositionalEncoding(d_model, max_seq_length)\n",
    "\n",
    "        self.encoder_layers = nn.ModuleList(\n",
    "            [EncoderLayer(d_model, num_heads, d_ff, dropout) for _ in range(num_layers)])\n",
    "        self.decoder_layers = nn.ModuleList(\n",
    "            [DecoderLayer(d_model, num_heads, d_ff, dropout) for _ in range(num_layers)])\n",
    "\n",
    "        self.fc = nn.Linear(d_model, tgt_vocab_size)\n",
    "        self.dropout = nn.Dropout(dropout)\n",
    "\n",
    "    def generate_mask(self, src, tgt):\n",
    "        src_mask = (src != 0).unsqueeze(1).unsqueeze(2)\n",
    "        tgt_mask = (tgt != 0).unsqueeze(1).unsqueeze(2)\n",
    "        seq_length = tgt.size(-1)\n",
    "        nopeak_mask = (1 - torch.triu(torch.ones(1, 1, seq_length), diagonal=1)).bool()\n",
    "        tgt_mask = tgt_mask & nopeak_mask\n",
    "        return src_mask, tgt_mask\n",
    "\n",
    "    def forward(self, src, tgt):\n",
    "        src_mask, tgt_mask = self.generate_mask(src, tgt)\n",
    "        src_embedded = self.dropout(self.positional_encoding(self.encoder_embedding(src)))\n",
    "        tgt_embedded = self.dropout(self.positional_encoding(self.decoder_embedding(tgt)))\n",
    "        enc_output = src_embedded\n",
    "        for enc_layer in self.encoder_layers:\n",
    "            enc_output = enc_layer(enc_output, src_mask)\n",
    "\n",
    "        dec_output = tgt_embedded\n",
    "        for dec_layer in self.decoder_layers:\n",
    "            dec_output = dec_layer(dec_output, enc_output, src_mask, tgt_mask)\n",
    "\n",
    "        output = self.fc(dec_output)\n",
    "        return output"
   ]
  },
  {
   "cell_type": "code",
   "execution_count": 21,
   "metadata": {},
   "outputs": [],
   "source": [
    "df = pd.read_csv('a_catalog.csv')\n",
    "pd.set_option('display.max_columns', None)  # Display all columns\n",
    "pd.set_option('display.expand_frame_repr', False)"
   ]
  },
  {
   "cell_type": "code",
   "execution_count": 22,
   "metadata": {},
   "outputs": [],
   "source": [
    "df.drop('name_s', axis=1, inplace=True)\n",
    "df.drop('id', axis=1, inplace=True)\n",
    "df.drop('nuniverse', axis=1, inplace=True)\n",
    "\n",
    "scaler_number = 20000\n",
    "scaler = MinMaxScaler(feature_range=(0, scaler_number))\n",
    "columns_to_scale = [col for col in df.columns if col != 'stype']\n",
    "df[columns_to_scale] = scaler.fit_transform(df[columns_to_scale])"
   ]
  },
  {
   "cell_type": "code",
   "execution_count": 23,
   "metadata": {},
   "outputs": [],
   "source": [
    "data = pd.get_dummies(df, columns=['stype']).astype(int)\n",
    "data.reset_index(drop=True, inplace=True)\n",
    "\n",
    "min_max_df = pd.DataFrame({\n",
    "    'Min': data.min(),\n",
    "    'Max': data.max()\n",
    "}).transpose()\n",
    "\n",
    "# If you want to preserve the original column order\n",
    "min_max_df = min_max_df[data.columns]\n",
    "# print(min_max_df)\n",
    "\n",
    "flag = np.random.randint(0, 2, size=data.shape[0])"
   ]
  },
  {
   "cell_type": "code",
   "execution_count": 31,
   "metadata": {},
   "outputs": [],
   "source": [
    "encoded_data_train, remaining_data_test, flag_train, remaining_flag_test = train_test_split(\n",
    "    data, flag, train_size=0.7, random_state=42)\n",
    "\n",
    "encoded_data_test, encoded_data_val, flag_test, flag_val = train_test_split(\n",
    "    remaining_data_test, remaining_flag_test, test_size=0.5, random_state=42)\n",
    "\n",
    "encoded_data_train = torch.tensor(encoded_data_train.to_numpy(), dtype=torch.long)\n",
    "flag_train = torch.tensor(flag_train, dtype=torch.long)\n",
    "\n",
    "encoded_data_test = torch.tensor(encoded_data_test.to_numpy(), dtype=torch.long)\n",
    "flag_test = torch.tensor(flag_test, dtype=torch.long)\n",
    "\n",
    "encoded_data_val = torch.tensor(encoded_data_val.to_numpy(), dtype=torch.long)\n",
    "flag_val = torch.tensor(flag_val, dtype=torch.long)"
   ]
  },
  {
   "cell_type": "code",
   "execution_count": 32,
   "metadata": {},
   "outputs": [],
   "source": [
    "src_vocab_size = scaler_number + 1\n",
    "tgt_vocab_size = 2\n",
    "d_model = 128\n",
    "num_heads = 1\n",
    "num_layers = 2\n",
    "d_ff = 32\n",
    "max_seq_length = 48\n",
    "dropout = 0.1\n",
    "epoch_num = 30"
   ]
  },
  {
   "cell_type": "code",
   "execution_count": 33,
   "metadata": {},
   "outputs": [],
   "source": [
    "transformer = Transformer(src_vocab_size, tgt_vocab_size, d_model, num_heads, num_layers, d_ff, max_seq_length, dropout)\n",
    "criterion = nn.BCEWithLogitsLoss()\n",
    "optimizer = torch.optim.Adam(transformer.parameters(), lr=0.0001, betas=(0.9, 0.98), eps=1e-9)\n",
    "\n",
    "train_losses = []\n",
    "val_losses = []\n",
    "test_losses = []"
   ]
  },
  {
   "cell_type": "code",
   "execution_count": 34,
   "metadata": {},
   "outputs": [
    {
     "name": "stdout",
     "output_type": "stream",
     "text": [
      "Epoch: 1, Loss: 0.7821056246757507\n",
      "Epoch: 2, Loss: 0.7450225353240967\n",
      "Epoch: 3, Loss: 0.7077308893203735\n",
      "Epoch: 4, Loss: 0.676039457321167\n",
      "Epoch: 5, Loss: 0.6415907740592957\n",
      "Epoch: 6, Loss: 0.6117668151855469\n",
      "Epoch: 7, Loss: 0.5819569230079651\n",
      "Epoch: 8, Loss: 0.5535251498222351\n",
      "Epoch: 9, Loss: 0.5245060920715332\n",
      "Epoch: 10, Loss: 0.4973253607749939\n",
      "Validation Loss: 0.4434053897857666\n",
      "Epoch: 11, Loss: 0.4722684323787689\n",
      "Epoch: 12, Loss: 0.4464811086654663\n",
      "Epoch: 13, Loss: 0.42204704880714417\n",
      "Epoch: 14, Loss: 0.3983762860298157\n",
      "Epoch: 15, Loss: 0.37637045979499817\n",
      "Epoch: 16, Loss: 0.3552122116088867\n",
      "Epoch: 17, Loss: 0.33312052488327026\n",
      "Epoch: 18, Loss: 0.3127477169036865\n",
      "Epoch: 19, Loss: 0.2941333055496216\n",
      "Epoch: 20, Loss: 0.2744104862213135\n",
      "Validation Loss: 0.2225174903869629\n",
      "Epoch: 21, Loss: 0.25751686096191406\n",
      "Epoch: 22, Loss: 0.24119068682193756\n",
      "Epoch: 23, Loss: 0.2256307452917099\n",
      "Epoch: 24, Loss: 0.21008311212062836\n",
      "Epoch: 25, Loss: 0.19622941315174103\n",
      "Epoch: 26, Loss: 0.18203316628932953\n",
      "Epoch: 27, Loss: 0.16880376636981964\n",
      "Epoch: 28, Loss: 0.1582576483488083\n",
      "Epoch: 29, Loss: 0.14657075703144073\n",
      "Epoch: 30, Loss: 0.13628797233104706\n",
      "Validation Loss: 0.0975014790892601\n"
     ]
    }
   ],
   "source": [
    "transformer.train()\n",
    "for epoch in range(epoch_num):\n",
    "    optimizer.zero_grad()\n",
    "    output = transformer(encoded_data_train, flag_train.unsqueeze(1))\n",
    "    flag_train_dim = torch.cat((1 - flag_train.view(-1, 1), flag_train.view(-1, 1)), dim=1)\n",
    "    loss = criterion(output.contiguous().view(-1, tgt_vocab_size), flag_train_dim.float())\n",
    "    loss.backward()\n",
    "    optimizer.step()\n",
    "    train_losses.append(loss.item())\n",
    "    print(f\"Epoch: {epoch + 1}, Loss: {loss.item()}\")\n",
    "\n",
    "    if (epoch + 1) % 10 == 0:\n",
    "        transformer.eval()\n",
    "        with torch.no_grad():\n",
    "            val_output = transformer(encoded_data_val, flag_val.unsqueeze(1))\n",
    "            val_flag_dim = torch.cat((1 - flag_val.view(-1, 1), flag_val.view(-1, 1)), dim=1)\n",
    "            val_loss = criterion(val_output.contiguous().view(-1, tgt_vocab_size), val_flag_dim.float())\n",
    "            val_losses.append(val_loss.item())\n",
    "            print(f\"Validation Loss: {val_loss.item()}\")\n",
    "\n",
    "        transformer.train()"
   ]
  },
  {
   "cell_type": "code",
   "execution_count": 112,
   "metadata": {},
   "outputs": [
    {
     "name": "stdout",
     "output_type": "stream",
     "text": [
      "Testing Loss: 0.09800751507282257\n"
     ]
    }
   ],
   "source": [
    "transformer.eval()\n",
    "with torch.no_grad():\n",
    "    test_output = transformer(encoded_data_test, flag_test.unsqueeze(1))\n",
    "    test_flag_dim = torch.cat((1 - flag_test.view(-1, 1), flag_test.view(-1, 1)), dim=1)\n",
    "    test_loss = criterion(test_output.contiguous().view(-1, tgt_vocab_size), test_flag_dim.float())\n",
    "    test_losses.append(test_loss.item())\n",
    "    print(f\"Testing Loss: {test_loss.item()}\")"
   ]
  },
  {
   "cell_type": "code",
   "execution_count": 109,
   "metadata": {},
   "outputs": [
    {
     "name": "stdout",
     "output_type": "stream",
     "text": [
      "       Mass    Radius  Eccentricity  Semi_major_axis  Surface_temperature  Habitability\n",
      "0  3.807947  0.870266      0.235535         3.396245           285.799382             0\n",
      "1  9.512072  1.583802      0.222281         4.003739           320.814849             0\n",
      "2  7.346740  2.245892      0.815629         1.327293           314.024139             0\n",
      "3  6.026719  1.964450      0.224592         3.161883           223.084986             0\n",
      "4  1.644585  2.113122      0.244755         2.901555           222.387420             0\n"
     ]
    }
   ],
   "source": [
    "import numpy as np\n",
    "import pandas as pd\n",
    "\n",
    "# Seed for reproducibility\n",
    "np.random.seed(42)\n",
    "\n",
    "# Number of samples\n",
    "n_samples = 1000\n",
    "\n",
    "# Generate artificial data\n",
    "masses = np.random.uniform(0.1, 10.0, n_samples)  # Earth masses\n",
    "radii = np.random.uniform(0.5, 2.5, n_samples)  # Earth radii\n",
    "eccentricities = np.random.uniform(0, 0.9, n_samples)\n",
    "semi_major_axes = np.random.uniform(0.1, 5.0, n_samples)  # AU\n",
    "surface_temperatures = np.random.uniform(200, 350, n_samples)  # Kelvin\n",
    "\n",
    "habitability = (\n",
    "    (masses >= 0.5) & (masses <= 5.0) &\n",
    "    (radii >= 0.8) & (radii <= 1.5) &\n",
    "    (eccentricities < 0.5) &\n",
    "    (semi_major_axes >= 0.5) & (semi_major_axes <= 2.5) &\n",
    "    (surface_temperatures >= 250) & (surface_temperatures <= 320)\n",
    ").astype(int)  # Convert boolean to int (0 or 1)\n",
    "\n",
    "# Create a DataFrame\n",
    "data = pd.DataFrame({\n",
    "    'Mass': masses,\n",
    "    'Radius': radii,\n",
    "    'Eccentricity': eccentricities,\n",
    "    'Semi_major_axis': semi_major_axes,\n",
    "    'Surface_temperature': surface_temperatures,\n",
    "    'Habitability': habitability\n",
    "})\n",
    "\n",
    "# Show the first few rows of the dataset\n",
    "print(data.head())\n",
    "\n",
    "# Save the dataset to a CSV file\n",
    "\n",
    "# Define the header\n",
    "header = \"Mass,Radius,Eccentricity,Semi_major_axis,Surface_temperature,Habitability\"\n",
    "\n",
    "\n",
    "# Append the numerical data to the same file\n",
    "with open('data.csv', 'a') as file:\n",
    "    np.savetxt(file, data, delimiter=',', fmt='%.18e')\n",
    "\n",
    "data=data.to_numpy()"
   ]
  },
  {
   "cell_type": "code",
   "execution_count": 107,
   "metadata": {},
   "outputs": [
    {
     "data": {
      "image/png": "[encoded data removed]",
      "text/plain": [
       "<Figure size 432x288 with 1 Axes>"
      ]
     },
     "metadata": {
      "needs_background": "light"
     },
     "output_type": "display_data"
    }
   ],
   "source": [
    "for i in range(len(data[0:,0])):\n",
    "    if data[i,1]<100:\n",
    "        if data[i,5]==1:\n",
    "            plt.scatter(data[i,0],data[i,1],s=5,color='green')\n",
    "        else:\n",
    "            plt.scatter(data[i,0],data[i,1],s=0.5,color='red')\n",
    "plt.xlabel(\"Planet Radius\")\n",
    "plt.ylabel(\"Planet Mass\")\n",
    "plt.show()"
   ]
  },
  {
   "cell_type": "code",
   "execution_count": 110,
   "metadata": {},
   "outputs": [],
   "source": [
    "# Load the artificial data\n",
    "data = pd.read_csv('data.csv')\n"
   ]
  },
  {
   "cell_type": "code",
   "execution_count": 111,
   "metadata": {},
   "outputs": [
    {
     "name": "stdout",
     "output_type": "stream",
     "text": [
      "Testing Loss: 0.09800751507282257\n"
     ]
    }
   ],
   "source": [
    "\n",
    "# Split into features and target\n",
    "X = data[['Mass', 'Radius', 'Eccentricity', 'Semi_major_axis', 'Surface_temperature']]\n",
    "y = data['Habitability']\n",
    "\n",
    "# Split into train and test sets\n",
    "from sklearn.model_selection import train_test_split\n",
    "X_train, X_test, y_train, y_test = train_test_split(X, y, test_size=0.2, random_state=42)\n",
    "\n",
    "# Convert to PyTorch tensors\n",
    "X_train_tensor = torch.tensor(X_train.values, dtype=torch.float32)\n",
    "y_train_tensor = torch.tensor(y_train.values, dtype=torch.long)\n",
    "X_test_tensor = torch.tensor(X_test.values, dtype=torch.float32)\n",
    "y_test_tensor = torch.tensor(y_test.values, dtype=torch.long)\n",
    "\n",
    "\n",
    "transformer.eval()\n",
    "with torch.no_grad():\n",
    "    test_output = transformer(encoded_data_test, flag_test.unsqueeze(1))\n",
    "    test_flag_dim = torch.cat((1 - flag_test.view(-1, 1), flag_test.view(-1, 1)), dim=1)\n",
    "    test_loss = criterion(test_output.contiguous().view(-1, tgt_vocab_size), test_flag_dim.float())\n",
    "    test_losses.append(test_loss.item())\n",
    "    print(f\"Testing Loss: {test_loss.item()}\")\n"
   ]
  },
  {
   "cell_type": "code",
   "execution_count": null,
   "metadata": {},
   "outputs": [],
   "source": []
  }
 ],
 "metadata": {
  "kernelspec": {
   "display_name": "base",
   "language": "python",
   "name": "python3"
  },
  "language_info": {
   "codemirror_mode": {
    "name": "ipython",
    "version": 3
   },
   "file_extension": ".py",
   "mimetype": "text/x-python",
   "name": "python",
   "nbconvert_exporter": "python",
   "pygments_lexer": "ipython3",
   "version": "3.9.7"
  }
 },
 "nbformat": 4,
 "nbformat_minor": 2
}
